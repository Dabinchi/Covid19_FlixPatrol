{
 "cells": [
  {
   "cell_type": "code",
   "execution_count": 846,
   "metadata": {},
   "outputs": [],
   "source": [
    "%matplotlib inline\n",
    "\n",
    "import matplotlib\n",
    "import matplotlib.pyplot as plt\n",
    "from matplotlib import rc\n",
    "import pandas as pd\n",
    "import numpy as np\n",
    "import re\n",
    "\n",
    "# 시간계산을 위한 모듈\n",
    "import time\n",
    "\n",
    "# 웹 크롤링 전용 모듈\n",
    "import urllib.request\n",
    "from bs4 import *\n",
    "\n",
    "# 연산시간이 오래 소요되는 메서드 진행현황 확인용 모듈\n",
    "from tqdm.auto import tqdm\n",
    "\n",
    "# MAC Matplotlib 한글 사용을 위한 초기설정\n",
    "rc('font', family='AppleGothic')\n",
    "plt.rcParams['axes.unicode_minus'] = False\n",
    "\n",
    "# Matplotlib figuresize 초기설정\n",
    "plt.rcParams[\"figure.figsize\"] = (10,5)"
   ]
  },
  {
   "cell_type": "code",
   "execution_count": 1011,
   "metadata": {},
   "outputs": [],
   "source": [
    "class COVID_Data:\n",
    "    DataFrame = None\n",
    "    \n",
    "    @classmethod\n",
    "    def read_covid_data(cls):\n",
    "    # 'Covid19InfState.csv'의 decideCnt', 'deathCnt', 'accDefRate' 데이터를 DataFrame으로 읽기\n",
    "    \n",
    "        covid19_info = pd.read_csv('./Covid19InfState.csv', index_col='stateDt')\n",
    "        covid19_info = pd.DataFrame(covid19_info, \n",
    "                                    columns=['decideCnt', 'deathCnt', 'accDefRate']).fillna(0)[124:519]\n",
    "        covid19_info.index = covid19_info.index.astype('str')\n",
    "        covid19_info.index.name = '시간'\n",
    "        covid19_info.columns = ['확진자 수', '사망자 수', '확진률']\n",
    "        covid19_info.columns.name = '코로나 현황정보'\n",
    "        cls.DataFrame = covid19_info\n",
    "        print(\"COVID DataFrame을 생성하였습니다.\")\n",
    "        \n",
    "    @classmethod\n",
    "    def show_accumulated_feature_chart(cls, feature):\n",
    "        # 확진자 수, 사망자 수, 확진률에 대한 누적 라인차트 출력\n",
    "        if feature in ['확진자 수', '사망자 수', '확진률']:\n",
    "            try:\n",
    "                plt.plot(cls.DataFrame[feature])\n",
    "                x = sorted(set(i[:-2]+'01' for i in cls.DataFrame.index))\n",
    "                plt.xticks(x, rotation=90)\n",
    "            except TypeError:\n",
    "                print('read_covid_data 메서드로 DataFrame을 생성해주세요.')\n",
    "        else:\n",
    "            print(\"'확진자 수', '사망자 수', '확진률' 중 하나의 요소를 입력해주세요.\")\n",
    "\n",
    "    @classmethod\n",
    "    def show_changing_feature_chart(cls, feature):\n",
    "        # 확진자 수, 사망자 수에 대한 변동률 라인차트 출력\n",
    "        if feature in ['확진자 수', '사망자 수']:\n",
    "            try:\n",
    "                plt.plot(cls.DataFrame[feature].pct_change())\n",
    "                x = sorted(set(i[:-2]+'01' for i in cls.DataFrame.index))\n",
    "                plt.xticks(x, rotation=90)\n",
    "            except TypeError:\n",
    "                print('read_covid_data 메서드로 DataFrame을 생성해주세요.')\n",
    "        else:\n",
    "            print(\"'확진자 수', '사망자 수' 중 하나의 요소를 입력해주세요.\")\n",
    "            \n",
    "    @classmethod\n",
    "    def show_mulitple_accumulated_feature_chart(cls):\n",
    "        # 사망자 수, 확진자 수에 대한 누적 라인차트 동시 출력 (서로 다른 y축 척도)\n",
    "        try:\n",
    "            figure, ax1 = plt.subplots(figsize=(10,5))\n",
    "            # 월별 01일을 기준으로 나타나는 x축 눈금 설정\n",
    "            xtick_info = {date:idx for idx, date in enumerate(cls.DataFrame.index) \n",
    "                          if date.endswith('01')}\n",
    "            ax1.plot(cls.DataFrame['확진자 수'], color='blue')\n",
    "            ax1.set_xlabel('시간')\n",
    "            ax1.set_ylabel('확진자 수', color='blue')\n",
    "            ax1.tick_params(axis='y', labelcolor='blue')\n",
    "\n",
    "            ax1.set_xticks(list(xtick_info.values()))\n",
    "            ax1.set_xticklabels(list(xtick_info.keys()), rotation='vertical', fontsize=8)\n",
    "            \n",
    "            ax2 = ax1.twinx()\n",
    "            ax2.plot(cls.DataFrame['사망자 수'], color='red')\n",
    "            ax2.set_ylabel('사망자 수', color='red')\n",
    "            ax2.tick_params(axis='y', labelcolor='red')\n",
    "            \n",
    "            ax2.set_xticks(list(xtick_info.values()))\n",
    "            ax2.set_xticklabels(list(xtick_info.keys()), rotation='vertical', fontsize=8)\n",
    "            \n",
    "        except TypeError:\n",
    "            print('read_covid_data 메서드로 DataFrame을 생성해주세요.')\n",
    "        except:\n",
    "            print('TypeError 이외의 예외가 발생하였습니다.')\n",
    "                \n",
    "    @classmethod\n",
    "    def show_mulitple_changing_feature_chart(cls):\n",
    "        # 사망자 수, 확진자 수에 대한 변동률 라인차트 동시 출력 (서로 다른 y축 척도)\n",
    "        try:\n",
    "            figure, ax1 = plt.subplots(figsize=(10,5))\n",
    "            xtick_info = {date:idx for idx, date in enumerate(cls.DataFrame.index) \n",
    "                          if date.endswith('01')}\n",
    "            ax1.plot(cls.DataFrame['확진자 수'].pct_change(), color='blue')\n",
    "            ax1.set_xlabel('시간')\n",
    "            ax1.set_ylabel('확진자 수', color='blue')\n",
    "            ax1.tick_params(axis='y', labelcolor='blue')\n",
    "            \n",
    "            ax1.set_xticks(list(xtick_info.values()))\n",
    "            ax1.set_xticklabels(list(xtick_info.keys()), rotation='vertical', fontsize=8)\n",
    "            \n",
    "            ax2 = ax1.twinx()\n",
    "            ax2.plot(cls.DataFrame['사망자 수'].pct_change(), color='red')\n",
    "            ax2.set_ylabel('사망자 수', color='red')\n",
    "            ax2.tick_params(axis='y', labelcolor='red')\n",
    "            \n",
    "            ax2.set_xticks(list(xtick_info.values()))\n",
    "            ax2.set_xticklabels(list(xtick_info.keys()), rotation='vertical', fontsize=8)\n",
    "            \n",
    "        except TypeError:\n",
    "                print('read_covid_data 메서드로 DataFrame을 생성해주세요.')\n",
    "        except:\n",
    "                print('TypeError 이외의 예외가 발생하였습니다.')"
   ]
  },
  {
   "cell_type": "code",
   "execution_count": 725,
   "metadata": {},
   "outputs": [
    {
     "data": {
      "text/html": [
       "<div>\n",
       "<style scoped>\n",
       "    .dataframe tbody tr th:only-of-type {\n",
       "        vertical-align: middle;\n",
       "    }\n",
       "\n",
       "    .dataframe tbody tr th {\n",
       "        vertical-align: top;\n",
       "    }\n",
       "\n",
       "    .dataframe thead th {\n",
       "        text-align: right;\n",
       "    }\n",
       "</style>\n",
       "<table border=\"1\" class=\"dataframe\">\n",
       "  <thead>\n",
       "    <tr style=\"text-align: right;\">\n",
       "      <th>코로나 현황정보</th>\n",
       "      <th>확진자 수</th>\n",
       "      <th>사망자 수</th>\n",
       "      <th>확진률</th>\n",
       "    </tr>\n",
       "    <tr>\n",
       "      <th>일일 시간표</th>\n",
       "      <th></th>\n",
       "      <th></th>\n",
       "      <th></th>\n",
       "    </tr>\n",
       "  </thead>\n",
       "  <tbody>\n",
       "    <tr>\n",
       "      <th>20200501</th>\n",
       "      <td>10774.0</td>\n",
       "      <td>248.0</td>\n",
       "      <td>1.753626</td>\n",
       "    </tr>\n",
       "    <tr>\n",
       "      <th>20200502</th>\n",
       "      <td>10780.0</td>\n",
       "      <td>250.0</td>\n",
       "      <td>1.741333</td>\n",
       "    </tr>\n",
       "    <tr>\n",
       "      <th>20200503</th>\n",
       "      <td>10793.0</td>\n",
       "      <td>250.0</td>\n",
       "      <td>1.734136</td>\n",
       "    </tr>\n",
       "    <tr>\n",
       "      <th>20200504</th>\n",
       "      <td>10801.0</td>\n",
       "      <td>252.0</td>\n",
       "      <td>1.726102</td>\n",
       "    </tr>\n",
       "    <tr>\n",
       "      <th>20200505</th>\n",
       "      <td>10804.0</td>\n",
       "      <td>254.0</td>\n",
       "      <td>1.711175</td>\n",
       "    </tr>\n",
       "    <tr>\n",
       "      <th>...</th>\n",
       "      <td>...</td>\n",
       "      <td>...</td>\n",
       "      <td>...</td>\n",
       "    </tr>\n",
       "    <tr>\n",
       "      <th>20210527</th>\n",
       "      <td>138311.0</td>\n",
       "      <td>1943.0</td>\n",
       "      <td>1.449340</td>\n",
       "    </tr>\n",
       "    <tr>\n",
       "      <th>20210528</th>\n",
       "      <td>138898.0</td>\n",
       "      <td>1946.0</td>\n",
       "      <td>1.449938</td>\n",
       "    </tr>\n",
       "    <tr>\n",
       "      <th>20210529</th>\n",
       "      <td>139431.0</td>\n",
       "      <td>1951.0</td>\n",
       "      <td>1.450925</td>\n",
       "    </tr>\n",
       "    <tr>\n",
       "      <th>20210530</th>\n",
       "      <td>139910.0</td>\n",
       "      <td>1957.0</td>\n",
       "      <td>1.454196</td>\n",
       "    </tr>\n",
       "    <tr>\n",
       "      <th>20210531</th>\n",
       "      <td>140340.0</td>\n",
       "      <td>1959.0</td>\n",
       "      <td>1.456836</td>\n",
       "    </tr>\n",
       "  </tbody>\n",
       "</table>\n",
       "<p>395 rows × 3 columns</p>\n",
       "</div>"
      ],
      "text/plain": [
       "코로나 현황정보     확진자 수   사망자 수       확진률\n",
       "일일 시간표                              \n",
       "20200501   10774.0   248.0  1.753626\n",
       "20200502   10780.0   250.0  1.741333\n",
       "20200503   10793.0   250.0  1.734136\n",
       "20200504   10801.0   252.0  1.726102\n",
       "20200505   10804.0   254.0  1.711175\n",
       "...            ...     ...       ...\n",
       "20210527  138311.0  1943.0  1.449340\n",
       "20210528  138898.0  1946.0  1.449938\n",
       "20210529  139431.0  1951.0  1.450925\n",
       "20210530  139910.0  1957.0  1.454196\n",
       "20210531  140340.0  1959.0  1.456836\n",
       "\n",
       "[395 rows x 3 columns]"
      ]
     },
     "execution_count": 725,
     "metadata": {},
     "output_type": "execute_result"
    }
   ],
   "source": [
    "# COVID_Data DataFrame 예시\n",
    "COVID_Data.DataFrame"
   ]
  },
  {
   "cell_type": "code",
   "execution_count": 830,
   "metadata": {},
   "outputs": [],
   "source": [
    "class MovieOptionalFeatureBox:\n",
    "    # FlixPatrol 웹사이트의 영화 세부정보는 genre, subject, country 값을 불규칙하기 제공한다.\n",
    "    # 일정한 형식의 틀에서 나타나는 데이터가 아니기 때문에 tag를 통해 원하는 값을 곧바로 추출하는 것이 불가능하다.\n",
    "    # 따라서 'FlixPatrol_MovieInfo' 인스턴스에 대한 'optional movie info' 요소는\n",
    "    # 'MovieOptionalFeatureBox' 내 세가지 리스트에 대한 포함 여부를 판단하여 할당한다.\n",
    "    # 아래 데이터는 2020.06.01 부터 2021.05.31까지 한국 넷플릭스 10순위에 속한 모든 영화의\n",
    "    # optional information을 중복되지 않도록 수집한 값이다.\n",
    "    \n",
    "    genreBOX = \\\n",
    "    ['Action','Action Crime','Action Heroes','Anime','Comedy','Documentary',\n",
    "     'Drama','Fantasy','Fantasy Adventure','Horror','Independent Comics',\n",
    "     'Postapocalypse','Rom Com','Romance','Science Fiction','Survival',\n",
    "     'Thriller','Thrillers']\n",
    "    subjectBOX = \\\n",
    "    ['Ancient Egypt','Ancient Greece','Buddies','Cars','Christmas','Conspiracy',\n",
    "     'DC','Disapperance','Family','For Boys','For Girls','Gangsters','History',\n",
    "     'Iraq War','Kung-fu','Marvel','Music','Musicians','Politics','Psychological',\n",
    "     'Relationship','Revenge','Robots','Sd','Serial killer','Space','Superhero',\n",
    "     'Terorrism','Treasure hunt','Vampires','War','Zombies','monster','sex']\n",
    "    countryBOX = \\\n",
    "    ['Canada','China','France','Hong-Kong','Italy','Japan','Poland','South Korea',\n",
    "     'United Kingdom']\n",
    "\n",
    "class Annual_FlixPatrol_Top10:\n",
    "    YEAR_MONTH_LIST = []\n",
    "    FLIXPATROL_TOP10_LIST = []\n",
    "    \n",
    "    MOVIE_CHART_DATA_FRAMES = []\n",
    "    MOVIE_INFO_DATA_FRAMES = []\n",
    "    \n",
    "    @classmethod\n",
    "    def set_period(cls):\n",
    "        # 프로그램을 실행하는 현재시간을 기준으로 지난 12개월을 기간으로 설정 \n",
    "        # (FlixPatrol 웹사이트 제공 데이터 범위 : 12개월)\n",
    "        now = time.localtime()\n",
    "        for month in range(now.tm_mon, 13):\n",
    "            cls.YEAR_MONTH_LIST.append((now.tm_year-1, month))\n",
    "        for month in range(1, now.tm_mon):\n",
    "            cls.YEAR_MONTH_LIST.append((now.tm_year, month))\n",
    "        print(f'{now.tm_year-1}/{now.tm_mon} 부터 {now.tm_year}/{now.tm_mon-1}까지 기간이 설정되었습니다.')\n",
    "            \n",
    "    @classmethod\n",
    "    def load_annual_movie_info(cls):\n",
    "        if len(cls.YEAR_MONTH_LIST) == 0:\n",
    "            print(\"set_period 메서드로 기간을 설정해주세요.\")\n",
    "        elif len(cls.YEAR_MONTH_LIST) > 12:\n",
    "            print(\"이미 지난 12개월의 넷플릭스 Top10 영화정보가 저장되어 있습니다.\")\n",
    "        else:\n",
    "            for year, mon in tqdm(cls.YEAR_MONTH_LIST):  # tqdm: 경과시간 확인\n",
    "                month_data = FlixPatrol_Top10(year, mon)\n",
    "                month_data.read_top10_chart_info()\n",
    "                month_data.generate_top10_MovieInfo()\n",
    "                cls.FLIXPATROL_TOP10_LIST.append((month_data, year, mon)) \n",
    "                # FlixPatrol_Top10 객체 및 시간정보 저장\n",
    "            print(\"지난 12개월의 넷플릭스 Top10 영화정보를 불러왔습니다.\")\n",
    "    \n",
    "    @classmethod\n",
    "    def generate_MovieChart_dataframes(cls):\n",
    "        if len(cls.FLIXPATROL_TOP10_LIST) == 0:\n",
    "            print(\"load_annual_movie_info 메서드로 지난 12개월의 넷플릭스 Top10 영화정보를 불러와주세요.\")\n",
    "        else:\n",
    "            annual_df = pd.DataFrame()\n",
    "            for month_data, year, mon in tqdm(cls.FLIXPATROL_TOP10_LIST):  # tqdm: 경과시간 확인\n",
    "                month_df = month_data.make_MovieChart_dataframe()\n",
    "                month_df['Y/M'] = f'{year}/{mon:02d}'\n",
    "                cls.MOVIE_CHART_DATA_FRAMES.append(month_df)\n",
    "            print(\"MOVIE_CHART_DATA_FRAMES 리스트에 지난 12개월 MovieChart DataFrame을 저장하였습니다.\")\n",
    "                \n",
    "    @classmethod\n",
    "    def generate_MovieInfo_dataframes(cls):\n",
    "        if len(cls.YEAR_MONTH_LIST) == 0:\n",
    "            print(\"set_period 메서드로 기간을 설정해주세요.\")\n",
    "        else:\n",
    "            annual_df = pd.DataFrame()\n",
    "            for month_data, year, mon in tqdm(cls.FLIXPATROL_TOP10_LIST):  # tqdm: 경과시간 확인\n",
    "                month_df = month_data.make_MovieInfo_dataframe()\n",
    "                month_df['Y/M'] = f'{year}/{mon:02d}'\n",
    "                cls.MOVIE_INFO_DATA_FRAMES.append(month_df)\n",
    "            print(\"MOVIE_INFO_DATA_FRAMES 리스트에 지난 12개월 MovieInfo DataFrame을 저장하였습니다.\")\n",
    "            \n",
    "    @classmethod\n",
    "    def show_MovieChart_FlixPatrolPoint_chart(cls):\n",
    "        # MovieChart의 FlixPatrol Point 값의 추세도 출력\n",
    "        point_dict = {}\n",
    "        for df in Annual_FlixPatrol_Top10.MOVIE_CHART_DATA_FRAMES:\n",
    "            point_dict[df.iloc[0,-1]] = df.Point.median()\n",
    "        pd.Series(point_dict).plot.bar(color='green')\n",
    "        plt.title('한국 넷플릭스 선호 영화의 FlixPatrol 포인트 추세')      \n",
    "    \n",
    "    @classmethod\n",
    "    def show_MovieInfo_feature_chart(cls, feature, cut=1):\n",
    "        if feature in ['연도','주제','장르','국가']:\n",
    "            total_columns = [df.iloc[0,-1] for df in Annual_FlixPatrol_Top10.MOVIE_INFO_DATA_FRAMES]\n",
    "            total_dicts = []\n",
    "            for df in Annual_FlixPatrol_Top10.MOVIE_INFO_DATA_FRAMES:\n",
    "                genre_dict = {}\n",
    "                for i, j in df[feature].value_counts().items():\n",
    "                    genre_dict[i] = j\n",
    "                total_dicts.append(genre_dict)\n",
    "\n",
    "            # DataFrame 생성을 위한 dict 생성\n",
    "            raw_data = {col: {} for col in total_columns}\n",
    "            for i, col in enumerate(total_columns):\n",
    "                raw_data[col] = total_dicts[i]\n",
    "\n",
    "            df = pd.DataFrame(raw_data).T\n",
    "            for column in df.columns:   \n",
    "                if len(df[column].dropna()) <= cut: \n",
    "                    # 12개월 중 n회 이하로 등장한 주제 삭제\n",
    "                    df = df.drop([column], axis=1)\n",
    "            df.plot.bar(stacked=True)\n",
    "            plt.title(f\"한국 넷플릭스 선호 영화의 {feature} 빈도 추세\", size=15)\n",
    "        else:\n",
    "            print(\"'연도', '주제', '장르', '국가' 중 하나의 요소를 입력해주세요.\")\n",
    "    \n",
    "class FlixPatrol_Top10:\n",
    "    \n",
    "    def __init__(self, year, month):\n",
    "        self._year = year\n",
    "        self._month = month\n",
    "        self._top10 = {}\n",
    "        self._base_url = 'https://flixpatrol.com'\n",
    "        \n",
    "        self._TOP10_MOVIE_INFO = []\n",
    "            \n",
    "    @property\n",
    "    def year(self):\n",
    "        return self._year\n",
    "    @year.setter\n",
    "    def year(self, value):\n",
    "        self._year = value\n",
    "    @property\n",
    "    def month(self):\n",
    "        return self._month\n",
    "    @month.setter\n",
    "    def month(self, value):\n",
    "        self._month = value\n",
    "    @property\n",
    "    def TOP10_MOVIE_INFO(self):\n",
    "        return self._TOP10_MOVIE_INFO\n",
    "    \n",
    "    @staticmethod\n",
    "    def default_url(year, month):\n",
    "        return f'https://flixpatrol.com/top10/netflix/south-korea/{year}-{month:02d}/'\n",
    "\n",
    "    def read_top10_chart_info(self):\n",
    "        # 10순위 영화 데이터 불러오기\n",
    "        search_url = FlixPatrol_Top10.default_url(self._year, self._month)\n",
    "        html = urllib.request.urlopen(search_url)\n",
    "        bsObject = BeautifulSoup(html, 'html.parser')\n",
    "        movieRankTable = bsObject.find_all('table')[0]\n",
    "        \n",
    "        for e in movieRankTable.find_all('tr', {'class':'table-group'}):\n",
    "            info = [i for i in re.findall('[^\\n\\t]+', e.get_text()) if i.isspace()==False]\n",
    "            info[2] = int(info[2])  # Point 값은 정수형(int)으로 저장\n",
    "            additional_info_url = base_url + e.find('a')['href']\n",
    "            info.append(additional_info_url)\n",
    "            self._top10[info[0][:-1]] = info[1:]\n",
    "    \n",
    "    def load_top10_info(self):\n",
    "        # 10순위 영화 데이터가 담긴 set 반환\n",
    "        if self._top10 == {}:\n",
    "            print('TOP 10 정보를 불러오지 않았습니다.')\n",
    "        else:\n",
    "            return self._top10\n",
    "        \n",
    "    def generate_top10_MovieInfo(self):\n",
    "        # FlixPatrol_MovieInfo 객체 생성 및 저장\n",
    "        if len(self._TOP10_MOVIE_INFO) == 0:\n",
    "            if self._top10 == {}:\n",
    "                print('TOP 10 정보를 불러오지 않았습니다.')\n",
    "            else:\n",
    "                info_dict = self.load_top10_info()\n",
    "                for num in info_dict.keys():\n",
    "                    self._TOP10_MOVIE_INFO.append(FlixPatrol_MovieInfo(info_dict[num][2])) # 주소값 할당\n",
    "        else:\n",
    "            print('이미 FlixPatrol_MovieInfo 객체가 저장되어 있습니다.')\n",
    "    \n",
    "    def show_the_Nst_movie(self, num):\n",
    "        # N번째 순위 영화의 데이터 텍스트 출력\n",
    "        if not (1 <= num <= 10):\n",
    "            print('1과 10 사이의 정수를 입력해주세요.')\n",
    "        else:\n",
    "            if self._top10 == {}:\n",
    "                print('TOP 10 정보를 불러오지 않았습니다.')\n",
    "            else:\n",
    "                movie_info = self._top10[str(num)]\n",
    "                print(f'Title: {movie_info[0]}, Point: {movie_info[1]}, URL: {movie_info[2]}')\n",
    "    \n",
    "    def make_MovieChart_dataframe(self):\n",
    "        # 'index: 영화 순위', 'columns: 정보 유형'의 DataFrame 반환\n",
    "        if self._top10 == {}:\n",
    "            print('TOP 10 정보를 불러오지 않았습니다.')\n",
    "        else:\n",
    "            print(\"MovieChart DataFrame을 생성하였습니다.\")\n",
    "            return pd.DataFrame(self._top10, index=['Title','Point','Additional_URL']).T\n",
    "\n",
    "            \n",
    "    def make_MovieInfo_dataframe(self):\n",
    "        # TOP10_MOVIE_INFO에 저장된 FlixPatrol_MovieInfo 객체를 통해 월간 10순위 영화정보 DataFrame 반환\n",
    "        # 약 30초 시간 소요\n",
    "        if len(self._TOP10_MOVIE_INFO) == 0:\n",
    "            print('FlixPatrol_MovieInfo 객체가 저장되어있지 않습니다.')\n",
    "        else:\n",
    "            DF = pd.DataFrame()\n",
    "            for MovieInfo in self._TOP10_MOVIE_INFO:\n",
    "                MovieInfo.read_basic_movie_info()\n",
    "                MovieInfo.read_optional_movie_info()\n",
    "                DF = pd.concat([DF, pd.DataFrame(MovieInfo.make_series())], axis=1)\n",
    "            DF.columns = range(1,len(DF.columns)+1)\n",
    "            DF.columns.name = '순위'\n",
    "            DF.index.name = '상세정보'\n",
    "            print(\"MovieInfo DataFrame을 생성하였습니다.\")\n",
    "        return DF.T\n",
    "            \n",
    "class FlixPatrol_MovieInfo:\n",
    "    def __init__(self, movie_url):\n",
    "        # basic movie info\n",
    "        self._title = None\n",
    "        self._director = None\n",
    "        self._year = None\n",
    "        self._IMDBscore = None\n",
    "        # optional movie info\n",
    "        self._genre = None\n",
    "        self._subject = None\n",
    "        self._country = None\n",
    "        # movie url\n",
    "        self._movie_url = movie_url\n",
    "    \n",
    "    # BASIC MOVIE INFO.\n",
    "    @property\n",
    "    def title(self):\n",
    "        return self._title\n",
    "    @property\n",
    "    def director(self):\n",
    "        return self._director\n",
    "    @property\n",
    "    def year(self):\n",
    "        return self._year\n",
    "    @property\n",
    "    def IMDBscore(self):\n",
    "        return self._IMDBscore\n",
    "    # OPTIONAL MOVIE INFO.\n",
    "    @property\n",
    "    def genre(self):\n",
    "        return self._genre\n",
    "    @property\n",
    "    def subject(self):\n",
    "        return self._subject\n",
    "    @property\n",
    "    def country(self):\n",
    "        return self._country\n",
    "    # MOVIE URL\n",
    "    @property\n",
    "    def movie_url(self):\n",
    "        return self._movie_url\n",
    "    @movie_url.setter\n",
    "    def movie_url(self, value):\n",
    "        self._movie_url = value\n",
    "    \n",
    "    def read_basic_movie_info(self):\n",
    "        # 영화의 감독, 제작년도, IMDB평가점수 불러오기\n",
    "        html = urllib.request.urlopen(self._movie_url)\n",
    "        bsObject = BeautifulSoup(html, 'html.parser')   \n",
    "        movieInfo = bsObject.find('div', {'class':'flex flex-wrap text-sm leading-6 text-gray-500'})\n",
    "        \n",
    "        participantsInfo = bsObject.find_all('div', {'class':'flex flex-col sm:flex-row items-baseline text-gray-400'})\n",
    "        self._director = participantsInfo[-1].find_all('div')[-1].get_text()\n",
    "        \n",
    "        year_data = movieInfo.find('span', {'title':'Premiere'})\n",
    "        if type(year_data) == type(None): \n",
    "            # year 정보가 기입되지 않는 경우\n",
    "            # ex. 'https://flixpatrol.com/title/the-gangster-the-cop-the-devil/'\n",
    "            self._year = None\n",
    "        else:                             # year 정보가 기입된 경우\n",
    "            self._year = int(year_data.get_text()[-4:])\n",
    "        self._title = bsObject.find('h1', {'class':'mb-3'}).get_text()\n",
    "        IMDB = bsObject.find('div', {'class':'mb-1 text-2xl text-gray-400'}).get_text()[:-3]\n",
    "        if IMDB == '':\n",
    "            self._IMDBscore = 'None'\n",
    "        else:\n",
    "            self._IMDBscore = float(IMDB)\n",
    "    \n",
    "    def read_optional_movie_info(self):\n",
    "        # 영화의 장르, 주제, 제작국가 불러오기\n",
    "        html = urllib.request.urlopen(self._movie_url)\n",
    "        bsObject = BeautifulSoup(html, 'html.parser')   \n",
    "        movieInfo = bsObject.find('div', {'class':'flex flex-wrap text-sm leading-6 text-gray-500'})\n",
    "        \n",
    "        features = [i.get_text().strip() for i in movieInfo.find_all('span') \n",
    "                    if re.search('[a-z]', i.get_text(), re.I)][1:] \n",
    "                    # Slicing을 통해 불필요한 'Movie' 정보 제외 \n",
    "        \n",
    "        for feature in features:\n",
    "            if feature in MovieOptionalFeatureBox.genreBOX:\n",
    "                self._genre = feature\n",
    "            if feature in MovieOptionalFeatureBox.subjectBOX:\n",
    "                self._subject = feature\n",
    "            if feature in MovieOptionalFeatureBox.countryBOX:\n",
    "                self._country = feature\n",
    "                \n",
    "    def make_series(self):\n",
    "        return pd.Series({'제목': self._title,\n",
    "                          '감독': self._director, \n",
    "                          '연도': self._year, \n",
    "                          'IMDB': self._IMDBscore, \n",
    "                          '장르': self._genre, \n",
    "                          '주제': self._subject, \n",
    "                          '국가': self._country})"
   ]
  },
  {
   "cell_type": "code",
   "execution_count": 812,
   "metadata": {},
   "outputs": [
    {
     "name": "stdout",
     "output_type": "stream",
     "text": [
      "MovieChart DataFrame을 생성하였습니다.\n",
      "MovieInfo DataFrame을 생성하였습니다.\n"
     ]
    }
   ],
   "source": [
    "# FlixPatrol_Top10 객체 DataFrame 생성 예시\n",
    "\n",
    "movie_top10_202005 = FlixPatrol_Top10(2020,5)  \n",
    "movie_top10_202005.read_top10_chart_info()\n",
    "movie_top10_202005.generate_top10_MovieInfo()\n",
    "\n",
    "movie_chart_df = movie_top10_202005.make_MovieChart_dataframe()\n",
    "movie_info_df = movie_top10_202005.make_MovieInfo_dataframe()"
   ]
  },
  {
   "cell_type": "code",
   "execution_count": 813,
   "metadata": {
    "scrolled": true
   },
   "outputs": [
    {
     "data": {
      "text/html": [
       "<div>\n",
       "<style scoped>\n",
       "    .dataframe tbody tr th:only-of-type {\n",
       "        vertical-align: middle;\n",
       "    }\n",
       "\n",
       "    .dataframe tbody tr th {\n",
       "        vertical-align: top;\n",
       "    }\n",
       "\n",
       "    .dataframe thead th {\n",
       "        text-align: right;\n",
       "    }\n",
       "</style>\n",
       "<table border=\"1\" class=\"dataframe\">\n",
       "  <thead>\n",
       "    <tr style=\"text-align: right;\">\n",
       "      <th></th>\n",
       "      <th>Title</th>\n",
       "      <th>Point</th>\n",
       "      <th>Additional_URL</th>\n",
       "    </tr>\n",
       "  </thead>\n",
       "  <tbody>\n",
       "    <tr>\n",
       "      <th>1</th>\n",
       "      <td>Extraction</td>\n",
       "      <td>272</td>\n",
       "      <td>https://flixpatrol.com/title/extraction-2020/</td>\n",
       "    </tr>\n",
       "    <tr>\n",
       "      <th>2</th>\n",
       "      <td>Time to Hunt</td>\n",
       "      <td>228</td>\n",
       "      <td>https://flixpatrol.com/title/time-to-hunt/</td>\n",
       "    </tr>\n",
       "    <tr>\n",
       "      <th>3</th>\n",
       "      <td>The Man Standing Next</td>\n",
       "      <td>187</td>\n",
       "      <td>https://flixpatrol.com/title/the-man-standing-...</td>\n",
       "    </tr>\n",
       "    <tr>\n",
       "      <th>4</th>\n",
       "      <td>Zodiac</td>\n",
       "      <td>113</td>\n",
       "      <td>https://flixpatrol.com/title/zodiac-2007/</td>\n",
       "    </tr>\n",
       "    <tr>\n",
       "      <th>5</th>\n",
       "      <td>Constantine</td>\n",
       "      <td>105</td>\n",
       "      <td>https://flixpatrol.com/title/constantine-2005/</td>\n",
       "    </tr>\n",
       "    <tr>\n",
       "      <th>6</th>\n",
       "      <td>Howls Moving Castle</td>\n",
       "      <td>101</td>\n",
       "      <td>https://flixpatrol.com/title/howls-moving-castle/</td>\n",
       "    </tr>\n",
       "    <tr>\n",
       "      <th>7</th>\n",
       "      <td>Fast &amp; Furious Presents: Hobbs &amp; Shaw</td>\n",
       "      <td>92</td>\n",
       "      <td>https://flixpatrol.com/title/fast-furious-pres...</td>\n",
       "    </tr>\n",
       "    <tr>\n",
       "      <th>8</th>\n",
       "      <td>The Shallows</td>\n",
       "      <td>91</td>\n",
       "      <td>https://flixpatrol.com/title/the-shallows/</td>\n",
       "    </tr>\n",
       "    <tr>\n",
       "      <th>9</th>\n",
       "      <td>Jason Bourne</td>\n",
       "      <td>53</td>\n",
       "      <td>https://flixpatrol.com/title/jason-bourne/</td>\n",
       "    </tr>\n",
       "    <tr>\n",
       "      <th>10</th>\n",
       "      <td>Spirited Away</td>\n",
       "      <td>52</td>\n",
       "      <td>https://flixpatrol.com/title/spirited-away/</td>\n",
       "    </tr>\n",
       "  </tbody>\n",
       "</table>\n",
       "</div>"
      ],
      "text/plain": [
       "                                    Title Point  \\\n",
       "1                              Extraction   272   \n",
       "2                            Time to Hunt   228   \n",
       "3                   The Man Standing Next   187   \n",
       "4                                  Zodiac   113   \n",
       "5                             Constantine   105   \n",
       "6                     Howls Moving Castle   101   \n",
       "7   Fast & Furious Presents: Hobbs & Shaw    92   \n",
       "8                            The Shallows    91   \n",
       "9                            Jason Bourne    53   \n",
       "10                          Spirited Away    52   \n",
       "\n",
       "                                       Additional_URL  \n",
       "1       https://flixpatrol.com/title/extraction-2020/  \n",
       "2          https://flixpatrol.com/title/time-to-hunt/  \n",
       "3   https://flixpatrol.com/title/the-man-standing-...  \n",
       "4           https://flixpatrol.com/title/zodiac-2007/  \n",
       "5      https://flixpatrol.com/title/constantine-2005/  \n",
       "6   https://flixpatrol.com/title/howls-moving-castle/  \n",
       "7   https://flixpatrol.com/title/fast-furious-pres...  \n",
       "8          https://flixpatrol.com/title/the-shallows/  \n",
       "9          https://flixpatrol.com/title/jason-bourne/  \n",
       "10        https://flixpatrol.com/title/spirited-away/  "
      ]
     },
     "execution_count": 813,
     "metadata": {},
     "output_type": "execute_result"
    }
   ],
   "source": [
    "# 2020년 5월 10순위 목록의 '차트정보' DataFrame 예시\n",
    "movie_chart_df   "
   ]
  },
  {
   "cell_type": "code",
   "execution_count": 814,
   "metadata": {},
   "outputs": [
    {
     "data": {
      "text/html": [
       "<div>\n",
       "<style scoped>\n",
       "    .dataframe tbody tr th:only-of-type {\n",
       "        vertical-align: middle;\n",
       "    }\n",
       "\n",
       "    .dataframe tbody tr th {\n",
       "        vertical-align: top;\n",
       "    }\n",
       "\n",
       "    .dataframe thead th {\n",
       "        text-align: right;\n",
       "    }\n",
       "</style>\n",
       "<table border=\"1\" class=\"dataframe\">\n",
       "  <thead>\n",
       "    <tr style=\"text-align: right;\">\n",
       "      <th>상세정보</th>\n",
       "      <th>제목</th>\n",
       "      <th>감독</th>\n",
       "      <th>연도</th>\n",
       "      <th>IMDB</th>\n",
       "      <th>장르</th>\n",
       "      <th>주제</th>\n",
       "      <th>국가</th>\n",
       "    </tr>\n",
       "    <tr>\n",
       "      <th>순위</th>\n",
       "      <th></th>\n",
       "      <th></th>\n",
       "      <th></th>\n",
       "      <th></th>\n",
       "      <th></th>\n",
       "      <th></th>\n",
       "      <th></th>\n",
       "    </tr>\n",
       "  </thead>\n",
       "  <tbody>\n",
       "    <tr>\n",
       "      <th>1</th>\n",
       "      <td>Extraction</td>\n",
       "      <td>Sam Hargrave</td>\n",
       "      <td>2020</td>\n",
       "      <td>6.7</td>\n",
       "      <td>Action</td>\n",
       "      <td>Terorrism</td>\n",
       "      <td>None</td>\n",
       "    </tr>\n",
       "    <tr>\n",
       "      <th>2</th>\n",
       "      <td>Time to Hunt</td>\n",
       "      <td>Yoon Sung-hyun</td>\n",
       "      <td>2020</td>\n",
       "      <td>6.3</td>\n",
       "      <td>Science Fiction</td>\n",
       "      <td>None</td>\n",
       "      <td>South Korea</td>\n",
       "    </tr>\n",
       "    <tr>\n",
       "      <th>3</th>\n",
       "      <td>The Man Standing Next</td>\n",
       "      <td>Woo Min-ho</td>\n",
       "      <td>2020</td>\n",
       "      <td>7.2</td>\n",
       "      <td>None</td>\n",
       "      <td>None</td>\n",
       "      <td>South Korea</td>\n",
       "    </tr>\n",
       "    <tr>\n",
       "      <th>4</th>\n",
       "      <td>Zodiac</td>\n",
       "      <td>David Fincher</td>\n",
       "      <td>2007</td>\n",
       "      <td>7.7</td>\n",
       "      <td>None</td>\n",
       "      <td>Serial killer</td>\n",
       "      <td>None</td>\n",
       "    </tr>\n",
       "    <tr>\n",
       "      <th>5</th>\n",
       "      <td>Constantine</td>\n",
       "      <td>Francis Lawrence, Michael L. Fink</td>\n",
       "      <td>2005</td>\n",
       "      <td>7</td>\n",
       "      <td>None</td>\n",
       "      <td>DC</td>\n",
       "      <td>None</td>\n",
       "    </tr>\n",
       "    <tr>\n",
       "      <th>6</th>\n",
       "      <td>Howls Moving Castle</td>\n",
       "      <td>Hayao Miyazaki</td>\n",
       "      <td>2004</td>\n",
       "      <td>8.2</td>\n",
       "      <td>Anime</td>\n",
       "      <td>None</td>\n",
       "      <td>Japan</td>\n",
       "    </tr>\n",
       "    <tr>\n",
       "      <th>7</th>\n",
       "      <td>Fast &amp; Furious Presents: Hobbs &amp; Shaw</td>\n",
       "      <td>David Leitch</td>\n",
       "      <td>2019</td>\n",
       "      <td>6</td>\n",
       "      <td>Action</td>\n",
       "      <td>Buddies</td>\n",
       "      <td>None</td>\n",
       "    </tr>\n",
       "    <tr>\n",
       "      <th>8</th>\n",
       "      <td>The Shallows</td>\n",
       "      <td>Jaume Collet-Serra</td>\n",
       "      <td>2016</td>\n",
       "      <td>6.4</td>\n",
       "      <td>Horror</td>\n",
       "      <td>None</td>\n",
       "      <td>None</td>\n",
       "    </tr>\n",
       "    <tr>\n",
       "      <th>9</th>\n",
       "      <td>Jason Bourne</td>\n",
       "      <td>Paul Greengrass</td>\n",
       "      <td>2016</td>\n",
       "      <td>6.8</td>\n",
       "      <td>Action</td>\n",
       "      <td>None</td>\n",
       "      <td>None</td>\n",
       "    </tr>\n",
       "    <tr>\n",
       "      <th>10</th>\n",
       "      <td>Spirited Away</td>\n",
       "      <td>Hayao Miyazaki</td>\n",
       "      <td>2001</td>\n",
       "      <td>8.6</td>\n",
       "      <td>None</td>\n",
       "      <td>None</td>\n",
       "      <td>Japan</td>\n",
       "    </tr>\n",
       "  </tbody>\n",
       "</table>\n",
       "</div>"
      ],
      "text/plain": [
       "상세정보                                     제목  \\\n",
       "순위                                            \n",
       "1                                Extraction   \n",
       "2                              Time to Hunt   \n",
       "3                     The Man Standing Next   \n",
       "4                                    Zodiac   \n",
       "5                               Constantine   \n",
       "6                       Howls Moving Castle   \n",
       "7     Fast & Furious Presents: Hobbs & Shaw   \n",
       "8                              The Shallows   \n",
       "9                              Jason Bourne   \n",
       "10                            Spirited Away   \n",
       "\n",
       "상세정보                                 감독    연도 IMDB               장르  \\\n",
       "순위                                                                    \n",
       "1                          Sam Hargrave  2020  6.7           Action   \n",
       "2                        Yoon Sung-hyun  2020  6.3  Science Fiction   \n",
       "3                            Woo Min-ho  2020  7.2             None   \n",
       "4                         David Fincher  2007  7.7             None   \n",
       "5     Francis Lawrence, Michael L. Fink  2005    7             None   \n",
       "6                        Hayao Miyazaki  2004  8.2            Anime   \n",
       "7                          David Leitch  2019    6           Action   \n",
       "8                    Jaume Collet-Serra  2016  6.4           Horror   \n",
       "9                       Paul Greengrass  2016  6.8           Action   \n",
       "10                       Hayao Miyazaki  2001  8.6             None   \n",
       "\n",
       "상세정보             주제           국가  \n",
       "순위                                \n",
       "1         Terorrism         None  \n",
       "2              None  South Korea  \n",
       "3              None  South Korea  \n",
       "4     Serial killer         None  \n",
       "5                DC         None  \n",
       "6              None        Japan  \n",
       "7           Buddies         None  \n",
       "8              None         None  \n",
       "9              None         None  \n",
       "10             None        Japan  "
      ]
     },
     "execution_count": 814,
     "metadata": {},
     "output_type": "execute_result"
    }
   ],
   "source": [
    "# 2020년 5월 10순위 목록의 '영화 세부정보' DataFrame 예시\n",
    "movie_info_df"
   ]
  },
  {
   "cell_type": "code",
   "execution_count": 664,
   "metadata": {
    "scrolled": false
   },
   "outputs": [
    {
     "name": "stdout",
     "output_type": "stream",
     "text": [
      "2020/6 부터 2021/5까지 기간이 설정되었습니다.\n"
     ]
    },
    {
     "data": {
      "application/vnd.jupyter.widget-view+json": {
       "model_id": "3d6982dbe7ad4160b1b9c0a597b816a3",
       "version_major": 2,
       "version_minor": 0
      },
      "text/plain": [
       "HBox(children=(HTML(value=''), FloatProgress(value=0.0, max=12.0), HTML(value='')))"
      ]
     },
     "metadata": {},
     "output_type": "display_data"
    },
    {
     "name": "stdout",
     "output_type": "stream",
     "text": [
      "\n",
      "지난 12개월의 넷플릭스 Top10 영화정보를 불러왔습니다.\n"
     ]
    }
   ],
   "source": [
    "Annual_FlixPatrol_Top10.set_period()\n",
    "Annual_FlixPatrol_Top10.load_annual_movie_info()"
   ]
  },
  {
   "cell_type": "code",
   "execution_count": 666,
   "metadata": {
    "scrolled": true
   },
   "outputs": [
    {
     "data": {
      "application/vnd.jupyter.widget-view+json": {
       "model_id": "45b45439bda0449fb92c8f27e15b034f",
       "version_major": 2,
       "version_minor": 0
      },
      "text/plain": [
       "HBox(children=(HTML(value=''), FloatProgress(value=0.0, max=12.0), HTML(value='')))"
      ]
     },
     "metadata": {},
     "output_type": "display_data"
    },
    {
     "data": {
      "application/vnd.jupyter.widget-view+json": {
       "model_id": "d870f511428645fb8937ad56eb170679",
       "version_major": 2,
       "version_minor": 0
      },
      "text/plain": [
       "HBox(children=(HTML(value=''), FloatProgress(value=0.0, max=10.0), HTML(value='')))"
      ]
     },
     "metadata": {},
     "output_type": "display_data"
    },
    {
     "name": "stdout",
     "output_type": "stream",
     "text": [
      "\n"
     ]
    },
    {
     "data": {
      "application/vnd.jupyter.widget-view+json": {
       "model_id": "2d3df5614db044ddb478d62eebce5f48",
       "version_major": 2,
       "version_minor": 0
      },
      "text/plain": [
       "HBox(children=(HTML(value=''), FloatProgress(value=0.0, max=9.0), HTML(value='')))"
      ]
     },
     "metadata": {},
     "output_type": "display_data"
    },
    {
     "name": "stdout",
     "output_type": "stream",
     "text": [
      "\n"
     ]
    },
    {
     "data": {
      "application/vnd.jupyter.widget-view+json": {
       "model_id": "8ff84d6cc6b940e98f69b7f5184bc476",
       "version_major": 2,
       "version_minor": 0
      },
      "text/plain": [
       "HBox(children=(HTML(value=''), FloatProgress(value=0.0, max=10.0), HTML(value='')))"
      ]
     },
     "metadata": {},
     "output_type": "display_data"
    },
    {
     "name": "stdout",
     "output_type": "stream",
     "text": [
      "\n"
     ]
    },
    {
     "data": {
      "application/vnd.jupyter.widget-view+json": {
       "model_id": "b16a6b13d1a64f54b17b28a7973af9fc",
       "version_major": 2,
       "version_minor": 0
      },
      "text/plain": [
       "HBox(children=(HTML(value=''), FloatProgress(value=0.0, max=10.0), HTML(value='')))"
      ]
     },
     "metadata": {},
     "output_type": "display_data"
    },
    {
     "name": "stdout",
     "output_type": "stream",
     "text": [
      "\n"
     ]
    },
    {
     "data": {
      "application/vnd.jupyter.widget-view+json": {
       "model_id": "a9a56280d9b947e7874e5242cedfcadb",
       "version_major": 2,
       "version_minor": 0
      },
      "text/plain": [
       "HBox(children=(HTML(value=''), FloatProgress(value=0.0, max=10.0), HTML(value='')))"
      ]
     },
     "metadata": {},
     "output_type": "display_data"
    },
    {
     "name": "stdout",
     "output_type": "stream",
     "text": [
      "\n"
     ]
    },
    {
     "data": {
      "application/vnd.jupyter.widget-view+json": {
       "model_id": "ef060adfe36941bfa9366dcab425e279",
       "version_major": 2,
       "version_minor": 0
      },
      "text/plain": [
       "HBox(children=(HTML(value=''), FloatProgress(value=0.0, max=10.0), HTML(value='')))"
      ]
     },
     "metadata": {},
     "output_type": "display_data"
    },
    {
     "name": "stdout",
     "output_type": "stream",
     "text": [
      "\n"
     ]
    },
    {
     "data": {
      "application/vnd.jupyter.widget-view+json": {
       "model_id": "99ba1fe8fa1f45e2949cef0b4f5cfb26",
       "version_major": 2,
       "version_minor": 0
      },
      "text/plain": [
       "HBox(children=(HTML(value=''), FloatProgress(value=0.0, max=10.0), HTML(value='')))"
      ]
     },
     "metadata": {},
     "output_type": "display_data"
    },
    {
     "name": "stdout",
     "output_type": "stream",
     "text": [
      "\n"
     ]
    },
    {
     "data": {
      "application/vnd.jupyter.widget-view+json": {
       "model_id": "7fdbfe1a95504c43a32da201a153481d",
       "version_major": 2,
       "version_minor": 0
      },
      "text/plain": [
       "HBox(children=(HTML(value=''), FloatProgress(value=0.0, max=10.0), HTML(value='')))"
      ]
     },
     "metadata": {},
     "output_type": "display_data"
    },
    {
     "name": "stdout",
     "output_type": "stream",
     "text": [
      "\n"
     ]
    },
    {
     "data": {
      "application/vnd.jupyter.widget-view+json": {
       "model_id": "88dacf4240f84ecfa38241d2d94ab207",
       "version_major": 2,
       "version_minor": 0
      },
      "text/plain": [
       "HBox(children=(HTML(value=''), FloatProgress(value=0.0, max=10.0), HTML(value='')))"
      ]
     },
     "metadata": {},
     "output_type": "display_data"
    },
    {
     "name": "stdout",
     "output_type": "stream",
     "text": [
      "\n"
     ]
    },
    {
     "data": {
      "application/vnd.jupyter.widget-view+json": {
       "model_id": "70859d9413234a2e9a4ab65a8334724a",
       "version_major": 2,
       "version_minor": 0
      },
      "text/plain": [
       "HBox(children=(HTML(value=''), FloatProgress(value=0.0, max=10.0), HTML(value='')))"
      ]
     },
     "metadata": {},
     "output_type": "display_data"
    },
    {
     "name": "stdout",
     "output_type": "stream",
     "text": [
      "\n"
     ]
    },
    {
     "data": {
      "application/vnd.jupyter.widget-view+json": {
       "model_id": "03fc9a262dd5462cab00c7d8a959dd38",
       "version_major": 2,
       "version_minor": 0
      },
      "text/plain": [
       "HBox(children=(HTML(value=''), FloatProgress(value=0.0, max=10.0), HTML(value='')))"
      ]
     },
     "metadata": {},
     "output_type": "display_data"
    },
    {
     "name": "stdout",
     "output_type": "stream",
     "text": [
      "\n"
     ]
    },
    {
     "data": {
      "application/vnd.jupyter.widget-view+json": {
       "model_id": "5120d8cd18064ae8bfabda0ba4665a2f",
       "version_major": 2,
       "version_minor": 0
      },
      "text/plain": [
       "HBox(children=(HTML(value=''), FloatProgress(value=0.0, max=10.0), HTML(value='')))"
      ]
     },
     "metadata": {},
     "output_type": "display_data"
    },
    {
     "name": "stdout",
     "output_type": "stream",
     "text": [
      "\n",
      "\n",
      "MOVIE_INFO_DATA_FRAMES 리스트에 지난 12개월 MovieInfo DataFrame을 저장하였습니다.\n"
     ]
    }
   ],
   "source": [
    "Annual_FlixPatrol_Top10.generate_MovieInfo_dataframes()"
   ]
  },
  {
   "cell_type": "code",
   "execution_count": 1039,
   "metadata": {},
   "outputs": [
    {
     "data": {
      "image/png": "[encoded data removed]",
      "text/plain": [
       "<Figure size 720x360 with 1 Axes>"
      ]
     },
     "metadata": {
      "needs_background": "light"
     },
     "output_type": "display_data"
    }
   ],
   "source": [
    "Annual_FlixPatrol_Top10.show_MovieInfo_feature_chart('국가', 1)"
   ]
  },
  {
   "cell_type": "code",
   "execution_count": 449,
   "metadata": {
    "scrolled": false
   },
   "outputs": [
    {
     "data": {
      "image/png": "[encoded data removed]",
      "text/plain": [
       "<Figure size 432x288 with 1 Axes>"
      ]
     },
     "metadata": {
      "needs_background": "light"
     },
     "output_type": "display_data"
    }
   ],
   "source": [
    "Annual_FlixPatrol_Top10.show_MovieChart_FlixPatrolPoint_chart()"
   ]
  },
  {
   "cell_type": "code",
   "execution_count": 1023,
   "metadata": {},
   "outputs": [],
   "source": [
    "def checkTime(func):\n",
    "    def new_func(*num):\n",
    "        print(f\"main 함수의 실행시간을 기록합니다.\")\n",
    "        start = time.time()\n",
    "        func(*num)\n",
    "        print(f\"총 {time.time()-start}의 시간이 소요되었습니다.\")\n",
    "    return new_func"
   ]
  },
  {
   "cell_type": "code",
   "execution_count": 1018,
   "metadata": {},
   "outputs": [],
   "source": [
    "# MAIN 1 : FlixPatrol_MovieInfo 객체 테스트\n",
    "# FlixPatrol_MovieInfo 는 하나의 영화정보를 저장하는 클래스\n",
    "\n",
    "@checkTime\n",
    "def main1():\n",
    "    # FlixPatrol_MovieInfo\n",
    "    # 영화 하나에 대한 세부정보 불러오기\n",
    "    \n",
    "    # FlixPatrol 웹사이트에서 'We Can Be Heroes' 영화 세부정보 불러오기\n",
    "    movie_info_A = FlixPatrol_MovieInfo('https://flixpatrol.com/title/we-can-be-heroes-2020/')\n",
    "    movie_info_A.read_basic_movie_info()      # 영화의 감독, 제작년도, IMDB평가점수 불러오기\n",
    "    movie_info_A.read_optional_movie_info()   # 영화의 장르, 주제, 제작국가 불러오기\n",
    "    \n",
    "    # 'We Can Be Heroes' 영화 세부정보 출력하기\n",
    "    print(movie_info_A.title)     # 제목\n",
    "    print(movie_info_A.genre)     # 장르정보 없음\n",
    "    print(movie_info_A.subject)   # 주제\n",
    "    print(\"-------------------------\")\n",
    "    \n",
    "    # movie_info_A 영화정보에 대한 시리즈 반환\n",
    "    print(movie_info_A.make_series())"
   ]
  },
  {
   "cell_type": "code",
   "execution_count": 1020,
   "metadata": {},
   "outputs": [],
   "source": [
    "# MAIN 2 : FlixPatrol_Top10 객체 테스트\n",
    "# FlixPatrol_Top10 은 한국 넷플릭스 월별 10순위에 속하는 FlixPatrol_MovieInfo 객체를 저장하는 클래스\n",
    "\n",
    "@checkTime\n",
    "def main2():\n",
    "    # FlixPatrol_Top10\n",
    "    # 한국 넷플릭스 월별 10순위의 '차트정보' 및 '영화 세부정보' 불러오기\n",
    "    \n",
    "    # FlixPatrol 웹사이트에서 2020년 5월 10순위 영화 '차트정보' 불러오기\n",
    "    movie_top10_202005 = FlixPatrol_Top10(2020,5)  # 2020년 5월 FlixPatrol 차트 객체 생성\n",
    "    movie_top10_202005.read_top10_chart_info()     # 10순위 차트정보 불러오기\n",
    "    movie_top10_202005.generate_top10_MovieInfo()  # 10순위 차트정보의 10개 FlixPatrol_MovieInfo 객채 저장\n",
    "    \n",
    "    # 2020년 5월 N순위 영화 차트정보 출력 \n",
    "    movie_top10_202005.show_the_Nst_movie(1)\n",
    "    movie_top10_202005.show_the_Nst_movie(2)\n",
    "    movie_top10_202005.show_the_Nst_movie(3)\n",
    "    print()\n",
    "    \n",
    "    # FlixPatrol_Top10에 저장된 개별 FlixPatrol_MovieInfo 객체 데이터 접근\n",
    "    movie_top10_202005.TOP10_MOVIE_INFO[0].read_basic_movie_info()\n",
    "    movie_top10_202005.TOP10_MOVIE_INFO[0].read_optional_movie_info()\n",
    "    print(\"2020/05 1순위 영화 제목: \", movie_top10_202005.TOP10_MOVIE_INFO[0].title)\n",
    "    print(\"2020/05 1순위 영화 장르: \", movie_top10_202005.TOP10_MOVIE_INFO[0].genre) \n",
    "    print(\"2020/05 1순위 영화 주제: \", movie_top10_202005.TOP10_MOVIE_INFO[0].subject) \n",
    "    print()\n",
    "    \n",
    "    # 2020년 5월 10순위 목록의 '차트정보' 및 '영화 세부정보' DataFrame 생성\n",
    "    movie_chart_df = movie_top10_202005.make_MovieChart_dataframe()\n",
    "    movie_info_df = movie_top10_202005.make_MovieInfo_dataframe()  # 약 30초 소요"
   ]
  },
  {
   "cell_type": "code",
   "execution_count": 1021,
   "metadata": {},
   "outputs": [],
   "source": [
    "# MAIN 3 : Annual_FlixPatrol_Top10 클래스 테스트\n",
    "# Annual_FlixPatrol_Top10 지난 12개월의 FlixPatrol_Top10 객체를 저장하는 클래스\n",
    "# 해당 프로그램에서 FlixPatrol 넷플릭스 영화정보에 대한 모든 것을 관리\n",
    "\n",
    "@checkTime\n",
    "def main3():\n",
    "    # Annual_FlixPatrol_Top10\n",
    "    # 지난 12개월 한국 넷플릭스 10순위의 '차트정보' 및 '영화 세부정보' 불러오기\n",
    "    \n",
    "    # 현 시간을 기준으로 지난 12개월 기간 설정\n",
    "    Annual_FlixPatrol_Top10.set_period()           \n",
    "    Annual_FlixPatrol_Top10.load_annual_movie_info()\n",
    "    \n",
    "    # 지난 12개월 한국 넷플릭스 10순위 '영화 세부정보' DataFrame 생성\n",
    "    Annual_FlixPatrol_Top10.generate_MovieInfo_dataframes()\n",
    "    \n",
    "    # 지난 12개월 한국 넷플릭스 10순위 '영화 세부정보'의 stacked bar 차트 출력\n",
    "    # '장르', '주제', '국가', '연도' 세부정보 선택 가능\n",
    "    # cut=N 값을 설정하여 12개월 내 N개 이하의 빈도수로 나타난 값 삭제\n",
    "    Annual_FlixPatrol_Top10.show_MovieInfo_feature_chart('장르', cut=2)\n",
    "    Annual_FlixPatrol_Top10.show_MovieInfo_feature_chart('주제', cut=2)\n",
    "    Annual_FlixPatrol_Top10.show_MovieInfo_feature_chart('국가', cut=2)\n",
    "    Annual_FlixPatrol_Top10.show_MovieInfo_feature_chart('연도', cut=2)"
   ]
  },
  {
   "cell_type": "code",
   "execution_count": 1030,
   "metadata": {},
   "outputs": [],
   "source": [
    "@checkTime\n",
    "def main4():\n",
    "    # COVID_Data\n",
    "    # 지난 12개월 코로나 19 현황정보 불러오기\n",
    "    \n",
    "    # 'Covid19InfState.csv'의 decideCnt', 'deathCnt', 'accDefRate' 데이터 불러오기\n",
    "    COVID_Data.read_covid_data()\n",
    "    \n",
    "    # '확진자 수', '사망자 수', '확진률'에 대한 누적 라인차트 출력\n",
    "    COVID_Data.show_accumulated_feature_chart('확진자 수')\n",
    "    COVID_Data.show_mulitple_accumulated_feature_chart()\n",
    "    COVID_Data.show_mulitple_changing_feature_chart()"
   ]
  },
  {
   "cell_type": "code",
   "execution_count": 1031,
   "metadata": {},
   "outputs": [
    {
     "name": "stdout",
     "output_type": "stream",
     "text": [
      "MAIN 4 : COVID_Data 클래스 테스트\n",
      "\n",
      "main 함수의 실행시간을 기록합니다.\n",
      "COVID DataFrame을 생성하였습니다.\n",
      "총 0.3232901096343994의 시간이 소요되었습니다.\n",
      "\n"
     ]
    },
    {
     "data": {
      "image/png": "[encoded data removed]",
      "text/plain": [
       "<Figure size 720x360 with 1 Axes>"
      ]
     },
     "metadata": {
      "needs_background": "light"
     },
     "output_type": "display_data"
    },
    {
     "data": {
      "image/png": "[encoded data removed]",
      "text/plain": [
       "<Figure size 720x360 with 2 Axes>"
      ]
     },
     "metadata": {
      "needs_background": "light"
     },
     "output_type": "display_data"
    },
    {
     "data": {
      "image/png": "[encoded data removed]",
      "text/plain": [
       "<Figure size 720x360 with 2 Axes>"
      ]
     },
     "metadata": {
      "needs_background": "light"
     },
     "output_type": "display_data"
    }
   ],
   "source": [
    "# 해당 프로그램은 OOP 구조를 통해 '넷플릭스 영화정보' 및 '코로나19 현황정보'를 관리하고 시각화한다.\n",
    "# 필자는 이 프로그램이 하나의 입력-출력 결과로 나타나기 어렵다고 판단하여 \n",
    "# 각 클래스의 대표적인 기능을 보여주는 총 4개의 main 함수를 구현하였다. \n",
    "\n",
    "if __name__ == \"__main__\":\n",
    "\n",
    "    # 클래스 FlixPatrol_MovieInfo\n",
    "#     print(\"MAIN1 TEST : FlixPatrol_MovieInfo 객체 테스트\\n\")\n",
    "#     main1()\n",
    "#     print()   \n",
    "    \n",
    "    # 클래스 FlixPatrol_Top10\n",
    "#     print(\"MAIN 2 : FlixPatrol_Top10 객체 테스트\\n\")\n",
    "#     main2()\n",
    "#     print()\n",
    "\n",
    "    # 클래스 Annual_FlixPatrol_Top10\n",
    "#     print(\"MAIN 3 : Annual_FlixPatrol_Top10 클래스 테스트\\n\")\n",
    "#     main3()\n",
    "#     print()\n",
    "\n",
    "    # 클래스 COVID_Data\n",
    "    print(\"MAIN 4 : COVID_Data 클래스 테스트\\n\")\n",
    "    main4()\n",
    "    print()"
   ]
  },
  {
   "cell_type": "code",
   "execution_count": null,
   "metadata": {},
   "outputs": [],
   "source": []
  }
 ],
 "metadata": {
  "kernelspec": {
   "display_name": "Python 3",
   "language": "python",
   "name": "python3"
  },
  "language_info": {
   "codemirror_mode": {
    "name": "ipython",
    "version": 3
   },
   "file_extension": ".py",
   "mimetype": "text/x-python",
   "name": "python",
   "nbconvert_exporter": "python",
   "pygments_lexer": "ipython3",
   "version": "3.8.5"
  }
 },
 "nbformat": 4,
 "nbformat_minor": 4
}
